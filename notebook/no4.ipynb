{
 "cells": [
  {
   "cell_type": "markdown",
   "id": "f91eee80",
   "metadata": {},
   "source": [
    "### 4. Deploy the vector DB on your own, and implement the `vector cosine similarity` without using a high level library.\n",
    "Vector Cosine Similarity\n",
    "This utilize the Dot Product principle\n",
    "```\n",
    "dot_product(a,b) = |a||b| × Cos(θ)\n",
    "```"
   ]
  },
  {
   "cell_type": "code",
   "execution_count": 26,
   "id": "ea9aa357",
   "metadata": {},
   "outputs": [],
   "source": [
    "import requests\n",
    "import numpy as np\n",
    "from typing import List\n",
    "from collections import defaultdict\n",
    "\n",
    "\n",
    "class VectorDB:\n",
    "    def __init__(\n",
    "        self,\n",
    "        embedding_model_name: str = \"nomic-embed-text:v1.5\",\n",
    "        base_url: str = \"http://localhost:11434\",\n",
    "    ):\n",
    "        self.base_url = base_url\n",
    "        self.embedding_model_name = embedding_model_name\n",
    "        self.vectors = {}\n",
    "        self.ids = defaultdict(list)\n",
    "\n",
    "    def get_embedding(self, text: str):\n",
    "        response = requests.post(\n",
    "            f\"{self.base_url}/api/embeddings\",\n",
    "            json={\"model\": self.embedding_model_name, \"prompt\": text},\n",
    "        )\n",
    "        return response.json()[\"embedding\"]\n",
    "\n",
    "    def get_similarity_score(self, vector1: List[float], vector2: List[float]):\n",
    "        similarity_score = np.dot(vector1, vector2) / (\n",
    "            np.linalg.norm(vector1) * np.linalg.norm(vector2)\n",
    "        )\n",
    "        return similarity_score\n",
    "\n",
    "    def insert_vector(self, key: str):\n",
    "        vector = self.get_embedding(key)\n",
    "        self.vectors[key] = vector\n",
    "\n",
    "    def search(self, query: str, k: int = 3):\n",
    "        vec1 = self.get_embedding(query)\n",
    "        scored = [\n",
    "            (key, self.get_similarity_score(vec1, vec))\n",
    "            for key, vec in self.vectors.items()\n",
    "        ]\n",
    "        scored.sort(key=lambda x: x[1], reverse=True)\n",
    "        return scored[:k]\n"
   ]
  },
  {
   "cell_type": "code",
   "execution_count": null,
   "id": "961223e8",
   "metadata": {},
   "outputs": [],
   "source": [
    "vdb = VectorDB()\n",
    "\n",
    "vdb.insert_vector(\"dark\")\n",
    "vdb.insert_vector(\"light\")\n"
   ]
  },
  {
   "cell_type": "code",
   "execution_count": 30,
   "id": "98ed3048",
   "metadata": {},
   "outputs": [
    {
     "data": {
      "text/plain": [
       "[('dark', np.float64(0.658563901563752)),\n",
       " ('light', np.float64(0.46528477239453514))]"
      ]
     },
     "execution_count": 30,
     "metadata": {},
     "output_type": "execute_result"
    }
   ],
   "source": [
    "vdb.search(\"black\")"
   ]
  },
  {
   "cell_type": "code",
   "execution_count": null,
   "id": "92218e39",
   "metadata": {},
   "outputs": [],
   "source": []
  }
 ],
 "metadata": {
  "kernelspec": {
   "display_name": "spx-exam",
   "language": "python",
   "name": "python3"
  },
  "language_info": {
   "codemirror_mode": {
    "name": "ipython",
    "version": 3
   },
   "file_extension": ".py",
   "mimetype": "text/x-python",
   "name": "python",
   "nbconvert_exporter": "python",
   "pygments_lexer": "ipython3",
   "version": "3.10.5"
  }
 },
 "nbformat": 4,
 "nbformat_minor": 5
}
